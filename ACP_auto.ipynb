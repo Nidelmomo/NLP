{
 "cells": [
  {
   "cell_type": "code",
   "execution_count": 1,
   "id": "0ecbec92",
   "metadata": {},
   "outputs": [],
   "source": [
    "import pandas as pd\n",
    "import numpy as np\n",
    "import seaborn as sns\n",
    "from matplotlib import pyplot as plt\n",
    "from sklearn.decomposition import PCA\n",
    "%matplotlib inline\n",
    "from sklearn.preprocessing import MinMaxScaler, StandardScaler, RobustScaler"
   ]
  },
  {
   "cell_type": "code",
   "execution_count": 2,
   "id": "5ff36350",
   "metadata": {},
   "outputs": [
    {
     "data": {
      "text/html": [
       "<div>\n",
       "<style scoped>\n",
       "    .dataframe tbody tr th:only-of-type {\n",
       "        vertical-align: middle;\n",
       "    }\n",
       "\n",
       "    .dataframe tbody tr th {\n",
       "        vertical-align: top;\n",
       "    }\n",
       "\n",
       "    .dataframe thead th {\n",
       "        text-align: right;\n",
       "    }\n",
       "</style>\n",
       "<table border=\"1\" class=\"dataframe\">\n",
       "  <thead>\n",
       "    <tr style=\"text-align: right;\">\n",
       "      <th></th>\n",
       "      <th>CYL</th>\n",
       "      <th>PUISS</th>\n",
       "      <th>LONG</th>\n",
       "      <th>LARG</th>\n",
       "      <th>POIDS</th>\n",
       "      <th>V.MAX</th>\n",
       "    </tr>\n",
       "  </thead>\n",
       "  <tbody>\n",
       "    <tr>\n",
       "      <th>Alfasud TI</th>\n",
       "      <td>1350</td>\n",
       "      <td>79</td>\n",
       "      <td>393</td>\n",
       "      <td>161</td>\n",
       "      <td>870</td>\n",
       "      <td>165</td>\n",
       "    </tr>\n",
       "    <tr>\n",
       "      <th>Audi 100</th>\n",
       "      <td>1588</td>\n",
       "      <td>85</td>\n",
       "      <td>468</td>\n",
       "      <td>177</td>\n",
       "      <td>1110</td>\n",
       "      <td>160</td>\n",
       "    </tr>\n",
       "    <tr>\n",
       "      <th>Simca 1300</th>\n",
       "      <td>1294</td>\n",
       "      <td>68</td>\n",
       "      <td>424</td>\n",
       "      <td>168</td>\n",
       "      <td>1050</td>\n",
       "      <td>152</td>\n",
       "    </tr>\n",
       "    <tr>\n",
       "      <th>Citroen GS Club</th>\n",
       "      <td>1222</td>\n",
       "      <td>59</td>\n",
       "      <td>412</td>\n",
       "      <td>161</td>\n",
       "      <td>930</td>\n",
       "      <td>151</td>\n",
       "    </tr>\n",
       "    <tr>\n",
       "      <th>Fiat 132</th>\n",
       "      <td>1585</td>\n",
       "      <td>98</td>\n",
       "      <td>439</td>\n",
       "      <td>164</td>\n",
       "      <td>1105</td>\n",
       "      <td>165</td>\n",
       "    </tr>\n",
       "    <tr>\n",
       "      <th>Lancia Beta</th>\n",
       "      <td>1297</td>\n",
       "      <td>82</td>\n",
       "      <td>429</td>\n",
       "      <td>169</td>\n",
       "      <td>1080</td>\n",
       "      <td>160</td>\n",
       "    </tr>\n",
       "    <tr>\n",
       "      <th>Peugeot 504</th>\n",
       "      <td>1796</td>\n",
       "      <td>79</td>\n",
       "      <td>449</td>\n",
       "      <td>169</td>\n",
       "      <td>1160</td>\n",
       "      <td>154</td>\n",
       "    </tr>\n",
       "    <tr>\n",
       "      <th>Renault 16 TL</th>\n",
       "      <td>1565</td>\n",
       "      <td>55</td>\n",
       "      <td>424</td>\n",
       "      <td>163</td>\n",
       "      <td>1010</td>\n",
       "      <td>140</td>\n",
       "    </tr>\n",
       "    <tr>\n",
       "      <th>Renault 30</th>\n",
       "      <td>2664</td>\n",
       "      <td>128</td>\n",
       "      <td>452</td>\n",
       "      <td>173</td>\n",
       "      <td>1320</td>\n",
       "      <td>180</td>\n",
       "    </tr>\n",
       "    <tr>\n",
       "      <th>Toyota Corolla</th>\n",
       "      <td>1166</td>\n",
       "      <td>55</td>\n",
       "      <td>399</td>\n",
       "      <td>157</td>\n",
       "      <td>815</td>\n",
       "      <td>140</td>\n",
       "    </tr>\n",
       "    <tr>\n",
       "      <th>Alfetta 1.66</th>\n",
       "      <td>1570</td>\n",
       "      <td>109</td>\n",
       "      <td>428</td>\n",
       "      <td>162</td>\n",
       "      <td>1060</td>\n",
       "      <td>175</td>\n",
       "    </tr>\n",
       "    <tr>\n",
       "      <th>Princess 1800</th>\n",
       "      <td>1798</td>\n",
       "      <td>82</td>\n",
       "      <td>445</td>\n",
       "      <td>172</td>\n",
       "      <td>1160</td>\n",
       "      <td>158</td>\n",
       "    </tr>\n",
       "    <tr>\n",
       "      <th>Datsun 200L</th>\n",
       "      <td>1998</td>\n",
       "      <td>115</td>\n",
       "      <td>469</td>\n",
       "      <td>169</td>\n",
       "      <td>1370</td>\n",
       "      <td>160</td>\n",
       "    </tr>\n",
       "    <tr>\n",
       "      <th>Taunus 2000</th>\n",
       "      <td>1993</td>\n",
       "      <td>98</td>\n",
       "      <td>438</td>\n",
       "      <td>170</td>\n",
       "      <td>1080</td>\n",
       "      <td>167</td>\n",
       "    </tr>\n",
       "    <tr>\n",
       "      <th>Rancho</th>\n",
       "      <td>1442</td>\n",
       "      <td>80</td>\n",
       "      <td>431</td>\n",
       "      <td>166</td>\n",
       "      <td>1129</td>\n",
       "      <td>144</td>\n",
       "    </tr>\n",
       "    <tr>\n",
       "      <th>Mazda 9295</th>\n",
       "      <td>1769</td>\n",
       "      <td>83</td>\n",
       "      <td>440</td>\n",
       "      <td>165</td>\n",
       "      <td>1095</td>\n",
       "      <td>165</td>\n",
       "    </tr>\n",
       "    <tr>\n",
       "      <th>Opel Rekord</th>\n",
       "      <td>1979</td>\n",
       "      <td>100</td>\n",
       "      <td>459</td>\n",
       "      <td>173</td>\n",
       "      <td>1120</td>\n",
       "      <td>173</td>\n",
       "    </tr>\n",
       "    <tr>\n",
       "      <th>Lada 1300</th>\n",
       "      <td>1294</td>\n",
       "      <td>68</td>\n",
       "      <td>404</td>\n",
       "      <td>161</td>\n",
       "      <td>955</td>\n",
       "      <td>140</td>\n",
       "    </tr>\n",
       "  </tbody>\n",
       "</table>\n",
       "</div>"
      ],
      "text/plain": [
       "                  CYL  PUISS  LONG  LARG  POIDS  V.MAX\n",
       "Alfasud TI       1350     79   393   161    870    165\n",
       "Audi 100         1588     85   468   177   1110    160\n",
       "Simca 1300       1294     68   424   168   1050    152\n",
       "Citroen GS Club  1222     59   412   161    930    151\n",
       "Fiat 132         1585     98   439   164   1105    165\n",
       "Lancia Beta      1297     82   429   169   1080    160\n",
       "Peugeot 504      1796     79   449   169   1160    154\n",
       "Renault 16 TL    1565     55   424   163   1010    140\n",
       "Renault 30       2664    128   452   173   1320    180\n",
       "Toyota Corolla   1166     55   399   157    815    140\n",
       "Alfetta 1.66     1570    109   428   162   1060    175\n",
       "Princess 1800    1798     82   445   172   1160    158\n",
       "Datsun 200L      1998    115   469   169   1370    160\n",
       "Taunus 2000      1993     98   438   170   1080    167\n",
       "Rancho           1442     80   431   166   1129    144\n",
       "Mazda 9295       1769     83   440   165   1095    165\n",
       "Opel Rekord      1979    100   459   173   1120    173\n",
       "Lada 1300        1294     68   404   161    955    140"
      ]
     },
     "execution_count": 2,
     "metadata": {},
     "output_type": "execute_result"
    }
   ],
   "source": [
    "auto=pd.read_excel('auto_acp.xlsx',index_col=0)\n",
    "auto.index.name=None\n",
    "auto"
   ]
  },
  {
   "cell_type": "code",
   "execution_count": 3,
   "id": "9b2b83ef",
   "metadata": {},
   "outputs": [
    {
     "data": {
      "image/png": "[encoded data removed]",
      "text/plain": [
       "<Figure size 432x288 with 1 Axes>"
      ]
     },
     "metadata": {
      "needs_background": "light"
     },
     "output_type": "display_data"
    }
   ],
   "source": [
    "plt.boxplot(auto)\n",
    "plt.show()"
   ]
  },
  {
   "cell_type": "code",
   "execution_count": 4,
   "id": "a09c3281",
   "metadata": {},
   "outputs": [
    {
     "data": {
      "text/plain": [
       "array([[-0.77509889, -0.28335818, -1.88508077, -1.09734528, -1.56900676,\n",
       "         0.56976043],\n",
       "       [-0.12016326,  0.01963869,  1.60580955,  2.0010414 ,  0.23416142,\n",
       "         0.14597168],\n",
       "       [-0.92920139, -0.83885242, -0.44217944,  0.25819889, -0.21663062,\n",
       "        -0.53209032],\n",
       "       [-1.12733318, -1.29334771, -1.00072189, -1.09734528, -1.11821472,\n",
       "        -0.61684807],\n",
       "       [-0.12841875,  0.67613189,  0.25599862, -0.51639778,  0.19659542,\n",
       "         0.56976043],\n",
       "       [-0.9209459 , -0.13185975, -0.20945342,  0.45184806,  0.0087654 ,\n",
       "         0.14597168],\n",
       "       [ 0.45221746, -0.28335818,  0.72145067,  0.45184806,  0.60982146,\n",
       "        -0.36257482],\n",
       "       [-0.18345536, -1.49534562, -0.44217944, -0.71004695, -0.51715865,\n",
       "        -1.54918332],\n",
       "       [ 2.84080623,  2.19111619,  0.86108628,  1.22644473,  1.81193359,\n",
       "         1.84112668],\n",
       "       [-1.28143568, -1.49534562, -1.60580955, -1.87194195, -1.98223281,\n",
       "        -1.54918332],\n",
       "       [-0.16969621,  1.23162613, -0.25599862, -0.90369611, -0.14149861,\n",
       "         1.41733793],\n",
       "       [ 0.45772112, -0.13185975,  0.53526985,  1.03279556,  0.60982146,\n",
       "        -0.02354382],\n",
       "       [ 1.0080872 ,  1.53462299,  1.65235475,  0.45184806,  2.18759363,\n",
       "         0.14597168],\n",
       "       [ 0.99432805,  0.67613189,  0.20945342,  0.64549722,  0.0087654 ,\n",
       "         0.73927593],\n",
       "       [-0.5219305 , -0.2328587 , -0.11636301, -0.12909944,  0.37691224,\n",
       "        -1.21015232],\n",
       "       [ 0.37791804, -0.08136027,  0.30254383, -0.32274861,  0.12146341,\n",
       "         0.56976043],\n",
       "       [ 0.95580242,  0.77713084,  1.18690271,  1.22644473,  0.30929343,\n",
       "         1.24782243],\n",
       "       [-0.92920139, -0.83885242, -1.37308353, -1.09734528, -0.9303847 ,\n",
       "        -1.54918332]])"
      ]
     },
     "execution_count": 4,
     "metadata": {},
     "output_type": "execute_result"
    }
   ],
   "source": [
    "scaler=StandardScaler()\n",
    "auto_scaled=scaler.fit_transform(auto)\n",
    "autos=pd.DataFrame(auto_scaled)\n",
    "auto_scaled"
   ]
  },
  {
   "cell_type": "code",
   "execution_count": 5,
   "id": "fb8dfa0f",
   "metadata": {},
   "outputs": [
    {
     "data": {
      "image/png": "[encoded data removed]",
      "text/plain": [
       "<Figure size 1080x1080 with 42 Axes>"
      ]
     },
     "metadata": {
      "needs_background": "light"
     },
     "output_type": "display_data"
    }
   ],
   "source": [
    "g = sns.pairplot(auto)\n",
    "plt.suptitle('Scatter plots by pair, colorized by label', fontsize=18, y=1.02);"
   ]
  },
  {
   "cell_type": "code",
   "execution_count": 6,
   "id": "b013e20a",
   "metadata": {},
   "outputs": [],
   "source": [
    "pca=PCA()\n",
    "coords=pca.fit_transform(auto_scaled)\n",
    "coords\n",
    "comp=pca.components_"
   ]
  },
  {
   "cell_type": "code",
   "execution_count": 7,
   "id": "d9916bd2",
   "metadata": {},
   "outputs": [
    {
     "data": {
      "text/plain": [
       "array([0.73680968, 0.14267705, 0.06217768, 0.03565368, 0.01546687,\n",
       "       0.00721505])"
      ]
     },
     "execution_count": 7,
     "metadata": {},
     "output_type": "execute_result"
    }
   ],
   "source": [
    "pca.explained_variance_ratio_"
   ]
  },
  {
   "cell_type": "code",
   "execution_count": 8,
   "id": "3686c328",
   "metadata": {},
   "outputs": [
    {
     "data": {
      "text/plain": [
       "array([4.42085806, 0.85606229, 0.37306608, 0.21392209, 0.09280121,\n",
       "       0.04329027])"
      ]
     },
     "execution_count": 8,
     "metadata": {},
     "output_type": "execute_result"
    }
   ],
   "source": [
    "p=auto.shape[1]\n",
    "n=auto.shape[0]\n",
    "eigenvalues = (n-1)/n*pca.explained_variance_\n",
    "eigenvalues"
   ]
  },
  {
   "cell_type": "code",
   "execution_count": 9,
   "id": "69ee8d12",
   "metadata": {},
   "outputs": [
    {
     "data": {
      "text/plain": [
       "Text(0.5, 1.0, 'Les valeurs propes en fonction des facteurs')"
      ]
     },
     "execution_count": 9,
     "metadata": {},
     "output_type": "execute_result"
    },
    {
     "data": {
      "image/png": "[encoded data removed]",
      "text/plain": [
       "<Figure size 576x576 with 1 Axes>"
      ]
     },
     "metadata": {
      "needs_background": "light"
     },
     "output_type": "display_data"
    }
   ],
   "source": [
    "fig,axes=plt.subplots(figsize=(8,8))\n",
    "axes.set_xticks(np.arange(11))\n",
    "axes.plot(range(1,p+1),eigenvalues)\n",
    "plt.title(\"Les valeurs propes en fonction des facteurs\")"
   ]
  },
  {
   "cell_type": "code",
   "execution_count": 10,
   "id": "e1a4afc1",
   "metadata": {},
   "outputs": [
    {
     "data": {
      "text/plain": [
       "Text(0.5, 1.0, 'cumul de la variance expliquée vs nombre de facteurs')"
      ]
     },
     "execution_count": 10,
     "metadata": {},
     "output_type": "execute_result"
    },
    {
     "data": {
      "image/png": "[encoded data removed]",
      "text/plain": [
       "<Figure size 576x576 with 1 Axes>"
      ]
     },
     "metadata": {
      "needs_background": "light"
     },
     "output_type": "display_data"
    }
   ],
   "source": [
    "fig,axes=plt.subplots(figsize=(8,8))\n",
    "axes.set_xticks(np.arange(11))\n",
    "axes.plot(range(1,p+1),np.cumsum(pca.explained_variance_ratio_))\n",
    "plt.title(\"cumul de la variance expliquée vs nombre de facteurs\")"
   ]
  },
  {
   "cell_type": "code",
   "execution_count": 11,
   "id": "158f6d1e",
   "metadata": {},
   "outputs": [
    {
     "data": {
      "text/plain": [
       "<mpl_toolkits.mplot3d.art3d.Path3DCollection at 0x17ff0bfccd0>"
      ]
     },
     "execution_count": 11,
     "metadata": {},
     "output_type": "execute_result"
    },
    {
     "data": {
      "image/png": "[encoded data removed]",
      "text/plain": [
       "<Figure size 432x288 with 1 Axes>"
      ]
     },
     "metadata": {
      "needs_background": "light"
     },
     "output_type": "display_data"
    }
   ],
   "source": [
    "ax=plt.axes(projection=\"3d\")\n",
    "ax.scatter3D(coords[0:,0],coords[0:,1],coords[0:,2], color =\"red\")"
   ]
  },
  {
   "cell_type": "code",
   "execution_count": 12,
   "id": "847ec3e2",
   "metadata": {},
   "outputs": [
    {
     "data": {
      "text/html": [
       "<div>\n",
       "<style scoped>\n",
       "    .dataframe tbody tr th:only-of-type {\n",
       "        vertical-align: middle;\n",
       "    }\n",
       "\n",
       "    .dataframe tbody tr th {\n",
       "        vertical-align: top;\n",
       "    }\n",
       "\n",
       "    .dataframe thead th {\n",
       "        text-align: right;\n",
       "    }\n",
       "</style>\n",
       "<table border=\"1\" class=\"dataframe\">\n",
       "  <thead>\n",
       "    <tr style=\"text-align: right;\">\n",
       "      <th></th>\n",
       "      <th>Val.Prope</th>\n",
       "      <th>Seuils</th>\n",
       "    </tr>\n",
       "  </thead>\n",
       "  <tbody>\n",
       "    <tr>\n",
       "      <th>0</th>\n",
       "      <td>4.420858</td>\n",
       "      <td>2.450000</td>\n",
       "    </tr>\n",
       "    <tr>\n",
       "      <th>1</th>\n",
       "      <td>0.856062</td>\n",
       "      <td>1.450000</td>\n",
       "    </tr>\n",
       "    <tr>\n",
       "      <th>2</th>\n",
       "      <td>0.373066</td>\n",
       "      <td>0.950000</td>\n",
       "    </tr>\n",
       "    <tr>\n",
       "      <th>3</th>\n",
       "      <td>0.213922</td>\n",
       "      <td>0.616667</td>\n",
       "    </tr>\n",
       "    <tr>\n",
       "      <th>4</th>\n",
       "      <td>0.092801</td>\n",
       "      <td>0.366667</td>\n",
       "    </tr>\n",
       "    <tr>\n",
       "      <th>5</th>\n",
       "      <td>0.043290</td>\n",
       "      <td>0.166667</td>\n",
       "    </tr>\n",
       "  </tbody>\n",
       "</table>\n",
       "</div>"
      ],
      "text/plain": [
       "   Val.Prope    Seuils\n",
       "0   4.420858  2.450000\n",
       "1   0.856062  1.450000\n",
       "2   0.373066  0.950000\n",
       "3   0.213922  0.616667\n",
       "4   0.092801  0.366667\n",
       "5   0.043290  0.166667"
      ]
     },
     "execution_count": 12,
     "metadata": {},
     "output_type": "execute_result"
    }
   ],
   "source": [
    "b_i =1/np.arange(p,0 ,-1) \n",
    "cumul_b_i = np.cumsum(b_i) \n",
    "cumul_b_i = cumul_b_i[::-1]\n",
    "pd.DataFrame({'Val.Prope' :eigenvalues, 'Seuils':cumul_b_i})"
   ]
  },
  {
   "cell_type": "code",
   "execution_count": 13,
   "id": "0bdb04b4",
   "metadata": {},
   "outputs": [
    {
     "data": {
      "image/png": "[encoded data removed]",
      "text/plain": [
       "<Figure size 576x576 with 1 Axes>"
      ]
     },
     "metadata": {
      "needs_background": "light"
     },
     "output_type": "display_data"
    }
   ],
   "source": [
    "fig, axes = plt.subplots(figsize=(8 , 8))\n",
    "axes.set_xlim(-3,4)\n",
    "axes.set_ylim(-4 , 6)\n",
    "plt.plot([-3 , 4],[0,0],color='black',linewidth=1)\n",
    "plt.plot([0,0],[ -4,6 ],color= 'black',linewidth= 1)\n",
    "\n",
    "for i in range(n):\n",
    "    plt.annotate(auto.index[i],(coords[i, 0],coords[i,1 ]),color='b')\n"
   ]
  },
  {
   "cell_type": "code",
   "execution_count": 14,
   "id": "03eb5159",
   "metadata": {},
   "outputs": [
    {
     "data": {
      "text/html": [
       "<div>\n",
       "<style scoped>\n",
       "    .dataframe tbody tr th:only-of-type {\n",
       "        vertical-align: middle;\n",
       "    }\n",
       "\n",
       "    .dataframe tbody tr th {\n",
       "        vertical-align: top;\n",
       "    }\n",
       "\n",
       "    .dataframe thead th {\n",
       "        text-align: right;\n",
       "    }\n",
       "</style>\n",
       "<table border=\"1\" class=\"dataframe\">\n",
       "  <thead>\n",
       "    <tr style=\"text-align: right;\">\n",
       "      <th></th>\n",
       "      <th>Modèle</th>\n",
       "      <th>COS2_1</th>\n",
       "      <th>COS2_2</th>\n",
       "      <th>COS2_3</th>\n",
       "    </tr>\n",
       "  </thead>\n",
       "  <tbody>\n",
       "    <tr>\n",
       "      <th>0</th>\n",
       "      <td>Alfasud TI</td>\n",
       "      <td>0.556218</td>\n",
       "      <td>0.387670</td>\n",
       "      <td>0.039759</td>\n",
       "    </tr>\n",
       "    <tr>\n",
       "      <th>1</th>\n",
       "      <td>Audi 100</td>\n",
       "      <td>0.365334</td>\n",
       "      <td>0.349406</td>\n",
       "      <td>0.259215</td>\n",
       "    </tr>\n",
       "    <tr>\n",
       "      <th>2</th>\n",
       "      <td>Simca 1300</td>\n",
       "      <td>0.580284</td>\n",
       "      <td>0.210694</td>\n",
       "      <td>0.096545</td>\n",
       "    </tr>\n",
       "    <tr>\n",
       "      <th>3</th>\n",
       "      <td>Citroen GS Club</td>\n",
       "      <td>0.976992</td>\n",
       "      <td>0.001879</td>\n",
       "      <td>0.003256</td>\n",
       "    </tr>\n",
       "    <tr>\n",
       "      <th>4</th>\n",
       "      <td>Fiat 132</td>\n",
       "      <td>0.156579</td>\n",
       "      <td>0.413826</td>\n",
       "      <td>0.031955</td>\n",
       "    </tr>\n",
       "    <tr>\n",
       "      <th>5</th>\n",
       "      <td>Lancia Beta</td>\n",
       "      <td>0.081555</td>\n",
       "      <td>0.033900</td>\n",
       "      <td>0.402405</td>\n",
       "    </tr>\n",
       "    <tr>\n",
       "      <th>6</th>\n",
       "      <td>Peugeot 504</td>\n",
       "      <td>0.309202</td>\n",
       "      <td>0.575488</td>\n",
       "      <td>0.043600</td>\n",
       "    </tr>\n",
       "    <tr>\n",
       "      <th>7</th>\n",
       "      <td>Renault 16 TL</td>\n",
       "      <td>0.673539</td>\n",
       "      <td>0.170535</td>\n",
       "      <td>0.068101</td>\n",
       "    </tr>\n",
       "    <tr>\n",
       "      <th>8</th>\n",
       "      <td>Renault 30</td>\n",
       "      <td>0.892431</td>\n",
       "      <td>0.051920</td>\n",
       "      <td>0.016167</td>\n",
       "    </tr>\n",
       "    <tr>\n",
       "      <th>9</th>\n",
       "      <td>Toyota Corolla</td>\n",
       "      <td>0.975219</td>\n",
       "      <td>0.003426</td>\n",
       "      <td>0.005641</td>\n",
       "    </tr>\n",
       "    <tr>\n",
       "      <th>10</th>\n",
       "      <td>Alfetta 1.66</td>\n",
       "      <td>0.042978</td>\n",
       "      <td>0.820652</td>\n",
       "      <td>0.000140</td>\n",
       "    </tr>\n",
       "    <tr>\n",
       "      <th>11</th>\n",
       "      <td>Princess 1800</td>\n",
       "      <td>0.530947</td>\n",
       "      <td>0.362855</td>\n",
       "      <td>0.024031</td>\n",
       "    </tr>\n",
       "    <tr>\n",
       "      <th>12</th>\n",
       "      <td>Datsun 200L</td>\n",
       "      <td>0.778390</td>\n",
       "      <td>0.028137</td>\n",
       "      <td>0.139257</td>\n",
       "    </tr>\n",
       "    <tr>\n",
       "      <th>13</th>\n",
       "      <td>Taunus 2000</td>\n",
       "      <td>0.704819</td>\n",
       "      <td>0.096496</td>\n",
       "      <td>0.032562</td>\n",
       "    </tr>\n",
       "    <tr>\n",
       "      <th>14</th>\n",
       "      <td>Rancho</td>\n",
       "      <td>0.243273</td>\n",
       "      <td>0.410469</td>\n",
       "      <td>0.201131</td>\n",
       "    </tr>\n",
       "    <tr>\n",
       "      <th>15</th>\n",
       "      <td>Mazda 9295</td>\n",
       "      <td>0.217336</td>\n",
       "      <td>0.185337</td>\n",
       "      <td>0.008346</td>\n",
       "    </tr>\n",
       "    <tr>\n",
       "      <th>16</th>\n",
       "      <td>Opel Rekord</td>\n",
       "      <td>0.861900</td>\n",
       "      <td>0.001790</td>\n",
       "      <td>0.104260</td>\n",
       "    </tr>\n",
       "    <tr>\n",
       "      <th>17</th>\n",
       "      <td>Lada 1300</td>\n",
       "      <td>0.926052</td>\n",
       "      <td>0.002607</td>\n",
       "      <td>0.041637</td>\n",
       "    </tr>\n",
       "  </tbody>\n",
       "</table>\n",
       "</div>"
      ],
      "text/plain": [
       "             Modèle    COS2_1    COS2_2    COS2_3\n",
       "0        Alfasud TI  0.556218  0.387670  0.039759\n",
       "1          Audi 100  0.365334  0.349406  0.259215\n",
       "2        Simca 1300  0.580284  0.210694  0.096545\n",
       "3   Citroen GS Club  0.976992  0.001879  0.003256\n",
       "4          Fiat 132  0.156579  0.413826  0.031955\n",
       "5       Lancia Beta  0.081555  0.033900  0.402405\n",
       "6       Peugeot 504  0.309202  0.575488  0.043600\n",
       "7     Renault 16 TL  0.673539  0.170535  0.068101\n",
       "8        Renault 30  0.892431  0.051920  0.016167\n",
       "9    Toyota Corolla  0.975219  0.003426  0.005641\n",
       "10     Alfetta 1.66  0.042978  0.820652  0.000140\n",
       "11    Princess 1800  0.530947  0.362855  0.024031\n",
       "12      Datsun 200L  0.778390  0.028137  0.139257\n",
       "13      Taunus 2000  0.704819  0.096496  0.032562\n",
       "14           Rancho  0.243273  0.410469  0.201131\n",
       "15       Mazda 9295  0.217336  0.185337  0.008346\n",
       "16      Opel Rekord  0.861900  0.001790  0.104260\n",
       "17        Lada 1300  0.926052  0.002607  0.041637"
      ]
     },
     "execution_count": 14,
     "metadata": {},
     "output_type": "execute_result"
    }
   ],
   "source": [
    "total_dist = np.sum(auto_scaled **2,axis= 1)\n",
    "cos2=coords**2\n",
    "for j in range(p):\n",
    "    cos2[:,j] = cos2[:,j]/total_dist\n",
    "pd.DataFrame({'Modèle':auto.index, 'COS2_1':cos2[:,0 ],'COS2_2':cos2[:,1 ], 'COS2_3':cos2[:,2 ]})"
   ]
  },
  {
   "cell_type": "code",
   "execution_count": 15,
   "id": "42c612ab",
   "metadata": {},
   "outputs": [
    {
     "name": "stdout",
     "output_type": "stream",
     "text": [
      "[1. 1. 1. 1. 1. 1. 1. 1. 1. 1. 1. 1. 1. 1. 1. 1. 1. 1.]\n"
     ]
    }
   ],
   "source": [
    "print(np.sum(cos2,axis=1))"
   ]
  },
  {
   "cell_type": "code",
   "execution_count": 16,
   "id": "117acc14",
   "metadata": {},
   "outputs": [],
   "source": [
    "ctr = coords**2\n",
    "for j in range(p):\n",
    "    ctr[:,j] = ctr[:,j]/(n*eigenvalues[j])\n",
    "mode=pd.DataFrame({'id':auto.index,'CTR_1' :ctr[:, 0],'CTR_2':ctr[:, 1],'CTR_3' :ctr[:, 2]})\n"
   ]
  },
  {
   "cell_type": "code",
   "execution_count": 17,
   "id": "6de356bf",
   "metadata": {},
   "outputs": [],
   "source": [
    "sqrt_eigenvalues = np.sqrt(eigenvalues) \n",
    "corvar = np.zeros((p,p))\n",
    "for i in range(p):\n",
    "    corvar[:,i]= pca.components_[i,:] * sqrt_eigenvalues[i]\n",
    "\n",
    "#len(corvar)"
   ]
  },
  {
   "cell_type": "code",
   "execution_count": 18,
   "id": "6cab432e",
   "metadata": {},
   "outputs": [
    {
     "data": {
      "text/html": [
       "<div>\n",
       "<style scoped>\n",
       "    .dataframe tbody tr th:only-of-type {\n",
       "        vertical-align: middle;\n",
       "    }\n",
       "\n",
       "    .dataframe tbody tr th {\n",
       "        vertical-align: top;\n",
       "    }\n",
       "\n",
       "    .dataframe thead th {\n",
       "        text-align: right;\n",
       "    }\n",
       "</style>\n",
       "<table border=\"1\" class=\"dataframe\">\n",
       "  <thead>\n",
       "    <tr style=\"text-align: right;\">\n",
       "      <th></th>\n",
       "      <th>id</th>\n",
       "      <th>COR_1</th>\n",
       "      <th>COR_2</th>\n",
       "      <th>COR_3</th>\n",
       "    </tr>\n",
       "  </thead>\n",
       "  <tbody>\n",
       "    <tr>\n",
       "      <th>0</th>\n",
       "      <td>CYL</td>\n",
       "      <td>0.893464</td>\n",
       "      <td>0.114906</td>\n",
       "      <td>-0.215983</td>\n",
       "    </tr>\n",
       "    <tr>\n",
       "      <th>1</th>\n",
       "      <td>PUISS</td>\n",
       "      <td>0.886858</td>\n",
       "      <td>0.384689</td>\n",
       "      <td>-0.112948</td>\n",
       "    </tr>\n",
       "    <tr>\n",
       "      <th>2</th>\n",
       "      <td>LONG</td>\n",
       "      <td>0.886155</td>\n",
       "      <td>-0.381029</td>\n",
       "      <td>0.041310</td>\n",
       "    </tr>\n",
       "    <tr>\n",
       "      <th>3</th>\n",
       "      <td>LARG</td>\n",
       "      <td>0.813536</td>\n",
       "      <td>-0.412736</td>\n",
       "      <td>0.369448</td>\n",
       "    </tr>\n",
       "    <tr>\n",
       "      <th>4</th>\n",
       "      <td>POIDS</td>\n",
       "      <td>0.905187</td>\n",
       "      <td>-0.224532</td>\n",
       "      <td>-0.295865</td>\n",
       "    </tr>\n",
       "    <tr>\n",
       "      <th>5</th>\n",
       "      <td>V.MAX</td>\n",
       "      <td>0.754710</td>\n",
       "      <td>0.573519</td>\n",
       "      <td>0.296522</td>\n",
       "    </tr>\n",
       "  </tbody>\n",
       "</table>\n",
       "</div>"
      ],
      "text/plain": [
       "      id     COR_1     COR_2     COR_3\n",
       "0    CYL  0.893464  0.114906 -0.215983\n",
       "1  PUISS  0.886858  0.384689 -0.112948\n",
       "2   LONG  0.886155 -0.381029  0.041310\n",
       "3   LARG  0.813536 -0.412736  0.369448\n",
       "4  POIDS  0.905187 -0.224532 -0.295865\n",
       "5  V.MAX  0.754710  0.573519  0.296522"
      ]
     },
     "execution_count": 18,
     "metadata": {},
     "output_type": "execute_result"
    }
   ],
   "source": [
    "pd.DataFrame({'id' :auto.columns,'COR_1' :corvar[:, 0],'COR_2' :corvar[:, 1],'COR_3' :corvar[:, 2]})\n"
   ]
  },
  {
   "cell_type": "code",
   "execution_count": 19,
   "id": "6dbc521a",
   "metadata": {},
   "outputs": [
    {
     "data": {
      "text/plain": [
       "Text(0.5, 1.0, 'cercle de correlations')"
      ]
     },
     "execution_count": 19,
     "metadata": {},
     "output_type": "execute_result"
    },
    {
     "data": {
      "image/png": "[encoded data removed]",
      "text/plain": [
       "<Figure size 576x576 with 1 Axes>"
      ]
     },
     "metadata": {
      "needs_background": "light"
     },
     "output_type": "display_data"
    }
   ],
   "source": [
    "fig, axes = plt.subplots(figsize=(8 ,8 ))\n",
    "axes.set_xlim(-1 ,1 )\n",
    "axes.set_ylim(-1 ,1 )\n",
    "\n",
    "for j in range(p):\n",
    "    plt.annotate(auto.columns[j],(corvar[j,0],corvar[j,1]),color='r')\n",
    "\n",
    "plt.plot([-1,1],[0,0],color='black',linewidth=1)\n",
    "plt.plot([0,0],[-1,1],color='black',linewidth=1)\n",
    "circle = plt.Circle((0,0),1,color='blue' ,fill=False)\n",
    "axes.add_artist(circle)\n",
    "plt.title(\"cercle de correlations\" )"
   ]
  },
  {
   "cell_type": "code",
   "execution_count": 20,
   "id": "2e37f684",
   "metadata": {},
   "outputs": [
    {
     "data": {
      "text/html": [
       "<div>\n",
       "<style scoped>\n",
       "    .dataframe tbody tr th:only-of-type {\n",
       "        vertical-align: middle;\n",
       "    }\n",
       "\n",
       "    .dataframe tbody tr th {\n",
       "        vertical-align: top;\n",
       "    }\n",
       "\n",
       "    .dataframe thead th {\n",
       "        text-align: right;\n",
       "    }\n",
       "</style>\n",
       "<table border=\"1\" class=\"dataframe\">\n",
       "  <thead>\n",
       "    <tr style=\"text-align: right;\">\n",
       "      <th></th>\n",
       "      <th>id</th>\n",
       "      <th>COS_1</th>\n",
       "      <th>COS_2</th>\n",
       "      <th>COS_3</th>\n",
       "    </tr>\n",
       "  </thead>\n",
       "  <tbody>\n",
       "    <tr>\n",
       "      <th>0</th>\n",
       "      <td>CYL</td>\n",
       "      <td>0.798277</td>\n",
       "      <td>0.013203</td>\n",
       "      <td>0.046649</td>\n",
       "    </tr>\n",
       "    <tr>\n",
       "      <th>1</th>\n",
       "      <td>PUISS</td>\n",
       "      <td>0.786517</td>\n",
       "      <td>0.147986</td>\n",
       "      <td>0.012757</td>\n",
       "    </tr>\n",
       "    <tr>\n",
       "      <th>2</th>\n",
       "      <td>LONG</td>\n",
       "      <td>0.785270</td>\n",
       "      <td>0.145183</td>\n",
       "      <td>0.001707</td>\n",
       "    </tr>\n",
       "    <tr>\n",
       "      <th>3</th>\n",
       "      <td>LARG</td>\n",
       "      <td>0.661841</td>\n",
       "      <td>0.170351</td>\n",
       "      <td>0.136492</td>\n",
       "    </tr>\n",
       "    <tr>\n",
       "      <th>4</th>\n",
       "      <td>POIDS</td>\n",
       "      <td>0.819364</td>\n",
       "      <td>0.050415</td>\n",
       "      <td>0.087536</td>\n",
       "    </tr>\n",
       "    <tr>\n",
       "      <th>5</th>\n",
       "      <td>V.MAX</td>\n",
       "      <td>0.569588</td>\n",
       "      <td>0.328925</td>\n",
       "      <td>0.087925</td>\n",
       "    </tr>\n",
       "  </tbody>\n",
       "</table>\n",
       "</div>"
      ],
      "text/plain": [
       "      id     COS_1     COS_2     COS_3\n",
       "0    CYL  0.798277  0.013203  0.046649\n",
       "1  PUISS  0.786517  0.147986  0.012757\n",
       "2   LONG  0.785270  0.145183  0.001707\n",
       "3   LARG  0.661841  0.170351  0.136492\n",
       "4  POIDS  0.819364  0.050415  0.087536\n",
       "5  V.MAX  0.569588  0.328925  0.087925"
      ]
     },
     "execution_count": 20,
     "metadata": {},
     "output_type": "execute_result"
    }
   ],
   "source": [
    "cos2_var = corvar**2\n",
    "pd.DataFrame({'id':auto.columns,'COS_1':cos2_var[:,0 ],'COS_2':cos2_var[:, 1], 'COS_3':cos2_var[:, 2]})"
   ]
  },
  {
   "cell_type": "code",
   "execution_count": 21,
   "id": "6ea7bb92",
   "metadata": {},
   "outputs": [
    {
     "data": {
      "text/html": [
       "<div>\n",
       "<style scoped>\n",
       "    .dataframe tbody tr th:only-of-type {\n",
       "        vertical-align: middle;\n",
       "    }\n",
       "\n",
       "    .dataframe tbody tr th {\n",
       "        vertical-align: top;\n",
       "    }\n",
       "\n",
       "    .dataframe thead th {\n",
       "        text-align: right;\n",
       "    }\n",
       "</style>\n",
       "<table border=\"1\" class=\"dataframe\">\n",
       "  <thead>\n",
       "    <tr style=\"text-align: right;\">\n",
       "      <th></th>\n",
       "      <th>id</th>\n",
       "      <th>CTR_1</th>\n",
       "      <th>CTR_2</th>\n",
       "      <th>CTR_3</th>\n",
       "      <th>CTR_4</th>\n",
       "    </tr>\n",
       "  </thead>\n",
       "  <tbody>\n",
       "    <tr>\n",
       "      <th>0</th>\n",
       "      <td>CYL</td>\n",
       "      <td>0.180571</td>\n",
       "      <td>0.015423</td>\n",
       "      <td>0.125042</td>\n",
       "      <td>0.652519</td>\n",
       "    </tr>\n",
       "    <tr>\n",
       "      <th>1</th>\n",
       "      <td>PUISS</td>\n",
       "      <td>0.177911</td>\n",
       "      <td>0.172868</td>\n",
       "      <td>0.034196</td>\n",
       "      <td>0.128015</td>\n",
       "    </tr>\n",
       "    <tr>\n",
       "      <th>2</th>\n",
       "      <td>LONG</td>\n",
       "      <td>0.177628</td>\n",
       "      <td>0.169594</td>\n",
       "      <td>0.004574</td>\n",
       "      <td>0.078261</td>\n",
       "    </tr>\n",
       "    <tr>\n",
       "      <th>3</th>\n",
       "      <td>LARG</td>\n",
       "      <td>0.149709</td>\n",
       "      <td>0.198994</td>\n",
       "      <td>0.365865</td>\n",
       "      <td>0.044762</td>\n",
       "    </tr>\n",
       "    <tr>\n",
       "      <th>4</th>\n",
       "      <td>POIDS</td>\n",
       "      <td>0.185341</td>\n",
       "      <td>0.058892</td>\n",
       "      <td>0.234639</td>\n",
       "      <td>0.091030</td>\n",
       "    </tr>\n",
       "    <tr>\n",
       "      <th>5</th>\n",
       "      <td>V.MAX</td>\n",
       "      <td>0.128841</td>\n",
       "      <td>0.384230</td>\n",
       "      <td>0.235683</td>\n",
       "      <td>0.005413</td>\n",
       "    </tr>\n",
       "  </tbody>\n",
       "</table>\n",
       "</div>"
      ],
      "text/plain": [
       "      id     CTR_1     CTR_2     CTR_3     CTR_4\n",
       "0    CYL  0.180571  0.015423  0.125042  0.652519\n",
       "1  PUISS  0.177911  0.172868  0.034196  0.128015\n",
       "2   LONG  0.177628  0.169594  0.004574  0.078261\n",
       "3   LARG  0.149709  0.198994  0.365865  0.044762\n",
       "4  POIDS  0.185341  0.058892  0.234639  0.091030\n",
       "5  V.MAX  0.128841  0.384230  0.235683  0.005413"
      ]
     },
     "execution_count": 21,
     "metadata": {},
     "output_type": "execute_result"
    }
   ],
   "source": [
    "ctrvar = cos2_var\n",
    "for i in range(p):\n",
    "    ctrvar[:,i] = ctrvar[:,i]/eigenvalues[i]\n",
    "pd.DataFrame({'id':auto.columns,'CTR_1':ctrvar[:,0] ,'CTR_2':ctrvar[:,1 ],'CTR_3' :ctrvar[:, 2],'CTR_4' :ctrvar[:, 3]})"
   ]
  },
  {
   "cell_type": "code",
   "execution_count": 22,
   "id": "9f99a03e",
   "metadata": {},
   "outputs": [
    {
     "data": {
      "text/html": [
       "<div>\n",
       "<style scoped>\n",
       "    .dataframe tbody tr th:only-of-type {\n",
       "        vertical-align: middle;\n",
       "    }\n",
       "\n",
       "    .dataframe tbody tr th {\n",
       "        vertical-align: top;\n",
       "    }\n",
       "\n",
       "    .dataframe thead th {\n",
       "        text-align: right;\n",
       "    }\n",
       "</style>\n",
       "<table border=\"1\" class=\"dataframe\">\n",
       "  <thead>\n",
       "    <tr style=\"text-align: right;\">\n",
       "      <th></th>\n",
       "      <th>CYL</th>\n",
       "      <th>PUISS</th>\n",
       "      <th>LONG</th>\n",
       "      <th>LARG</th>\n",
       "      <th>POIDS</th>\n",
       "      <th>V.MAX</th>\n",
       "    </tr>\n",
       "  </thead>\n",
       "  <tbody>\n",
       "    <tr>\n",
       "      <th>Peugeot 604</th>\n",
       "      <td>2664</td>\n",
       "      <td>136</td>\n",
       "      <td>472</td>\n",
       "      <td>177</td>\n",
       "      <td>1410</td>\n",
       "      <td>180</td>\n",
       "    </tr>\n",
       "    <tr>\n",
       "      <th>Peugeot 304 S</th>\n",
       "      <td>1288</td>\n",
       "      <td>74</td>\n",
       "      <td>414</td>\n",
       "      <td>157</td>\n",
       "      <td>915</td>\n",
       "      <td>160</td>\n",
       "    </tr>\n",
       "  </tbody>\n",
       "</table>\n",
       "</div>"
      ],
      "text/plain": [
       "                CYL  PUISS  LONG  LARG  POIDS  V.MAX\n",
       "Peugeot 604    2664    136   472   177   1410    180\n",
       "Peugeot 304 S  1288     74   414   157    915    160"
      ]
     },
     "execution_count": 22,
     "metadata": {},
     "output_type": "execute_result"
    }
   ],
   "source": [
    "auto_ind=pd.read_excel('auto_acp_ind_illustrative.xlsx',index_col=0)\n",
    "auto_ind.index.name=None\n",
    "auto_ind"
   ]
  },
  {
   "cell_type": "code",
   "execution_count": 23,
   "id": "897f9a29",
   "metadata": {},
   "outputs": [],
   "source": [
    "auto_ind=pd.read_excel('autos.xlsx',index_col=0)\n",
    "auto_ind.index.name=None\n",
    "# auto_ind"
   ]
  },
  {
   "cell_type": "code",
   "execution_count": 24,
   "id": "f511834b",
   "metadata": {},
   "outputs": [],
   "source": [
    "scaler=StandardScaler()\n",
    "auto_ind_scaled=scaler.fit_transform(auto_ind)\n",
    "#auto_ind_scaled"
   ]
  },
  {
   "cell_type": "code",
   "execution_count": 131,
   "id": "8e89e2b6",
   "metadata": {},
   "outputs": [
    {
     "name": "stdout",
     "output_type": "stream",
     "text": [
      "[[4.86733296538182, 0.2792009444364214, -0.2886292056575168, 0.2527852571302893, -0.2580470551275401, -0.04700067972865152], [-2.125878346594031, 1.0710459479157963, -0.06785779843201378, -0.2775259108445254, 0.5211040022253982, 0.12791011928689894]]\n"
     ]
    }
   ],
   "source": [
    "comp1=[]\n",
    "comp2=[]\n",
    "for l in range(len(comp)):\n",
    "    comp1.append(np.dot(auto_ind_scaled[-2],comp[l]))\n",
    "    comp2.append(np.dot(auto_ind_scaled[-1],comp[l]))\n",
    "coord_new=[]\n",
    "coord_new.append(comp1)\n",
    "coord_new.append(comp2)\n",
    "# print(comp1)\n",
    "# print(comp2)\n",
    "print(coord_new)"
   ]
  },
  {
   "cell_type": "code",
   "execution_count": 115,
   "id": "1c71cf3e",
   "metadata": {},
   "outputs": [
    {
     "data": {
      "text/plain": [
       "[<matplotlib.lines.Line2D at 0x17ff4e567c0>]"
      ]
     },
     "execution_count": 115,
     "metadata": {},
     "output_type": "execute_result"
    },
    {
     "data": {
      "image/png": "[encoded data removed]",
      "text/plain": [
       "<Figure size 576x576 with 1 Axes>"
      ]
     },
     "metadata": {
      "needs_background": "light"
     },
     "output_type": "display_data"
    }
   ],
   "source": [
    "fig, axes = plt.subplots(figsize=(8 , 8))\n",
    "axes.set_xlim(-6,6)\n",
    "axes.set_ylim(- 6,6)\n",
    "for i in range(n):\n",
    "    plt.annotate(auto.index[i],(coords[i,0 ],coords[i,1 ]),color='b')\n",
    "    \n",
    "plt.annotate(auto_ind.index[n],(coord_new[0][0],coord_new[0][1]),color='r' )\n",
    "plt.annotate(auto_ind.index[n+1],(coord_new[1][0],coord_new[1][1]),color='r' )\n",
    "\n"
   ]
  },
  {
   "cell_type": "markdown",
   "id": "0b0438e0",
   "metadata": {},
   "source": [
    "# Variables suplémentaires"
   ]
  },
  {
   "cell_type": "code",
   "execution_count": 57,
   "id": "13758a72",
   "metadata": {},
   "outputs": [],
   "source": [
    "auto_var=pd.read_excel('aut.xlsx',index_col=0)\n",
    "auto_var.index.name=None\n",
    "var_sup=[auto_var['PRIX'].to_numpy(),auto_var['R.POID.PUIS'].to_numpy()]\n",
    "var_sup=[[30570, 39990, 29600, 28250, 34900, 35480, 32300, 32000, 47700,\n",
    "        26540, 42395, 33990, 43980, 35010, 39450, 27900, 32700, 22100],[11.01265823, 13.05882353, 15.44117647, 15.76271186, 11.2755102 ,\n",
    "        13.17073171, 14.6835443 , 18.36363636, 10.3125    , 14.81818182,\n",
    "         9.72477064, 14.14634146, 11.91304348, 11.02040816, 14.1125    ,\n",
    "        13.19277108, 11.2, 14.04411765]]\n",
    "#var_sup\n"
   ]
  },
  {
   "cell_type": "code",
   "execution_count": 58,
   "id": "0dc2b953",
   "metadata": {},
   "outputs": [],
   "source": [
    "# recupération de la premiere coordonnée de chaque individu sur les axes deux premmiers axes\n",
    "F1=[]\n",
    "F2=[]\n",
    "for i in range(n):\n",
    "    F1.append(coords[i][0])\n",
    "    F2.append(coords[i][1])\n",
    "# print(F1)\n"
   ]
  },
  {
   "cell_type": "code",
   "execution_count": 117,
   "id": "89bd711b",
   "metadata": {},
   "outputs": [
    {
     "data": {
      "text/html": [
       "<div>\n",
       "<style scoped>\n",
       "    .dataframe tbody tr th:only-of-type {\n",
       "        vertical-align: middle;\n",
       "    }\n",
       "\n",
       "    .dataframe tbody tr th {\n",
       "        vertical-align: top;\n",
       "    }\n",
       "\n",
       "    .dataframe thead th {\n",
       "        text-align: right;\n",
       "    }\n",
       "</style>\n",
       "<table border=\"1\" class=\"dataframe\">\n",
       "  <thead>\n",
       "    <tr style=\"text-align: right;\">\n",
       "      <th></th>\n",
       "      <th>corr</th>\n",
       "      <th>comp1</th>\n",
       "      <th>comp2</th>\n",
       "    </tr>\n",
       "  </thead>\n",
       "  <tbody>\n",
       "    <tr>\n",
       "      <th>0</th>\n",
       "      <td>PRIX</td>\n",
       "      <td>0.772475</td>\n",
       "      <td>0.086708</td>\n",
       "    </tr>\n",
       "    <tr>\n",
       "      <th>1</th>\n",
       "      <td>R.POID.PUIS</td>\n",
       "      <td>-0.589039</td>\n",
       "      <td>-0.672545</td>\n",
       "    </tr>\n",
       "  </tbody>\n",
       "</table>\n",
       "</div>"
      ],
      "text/plain": [
       "          corr     comp1     comp2\n",
       "0         PRIX  0.772475  0.086708\n",
       "1  R.POID.PUIS -0.589039 -0.672545"
      ]
     },
     "execution_count": 117,
     "metadata": {},
     "output_type": "execute_result"
    }
   ],
   "source": [
    "# correlation\n",
    "comp1=[]\n",
    "comp1.append(np.corrcoef(var_sup[0],F1)[0][1])\n",
    "comp1.append(np.corrcoef(var_sup[1],F1)[0][1])\n",
    "comp2=[]\n",
    "comp2.append(np.corrcoef(var_sup[0],F2)[0][1])\n",
    "comp2.append(np.corrcoef(var_sup[1],F2)[0][1])\n",
    "ind=['PRIX','R.POID.PUIS']\n",
    "composante=pd.DataFrame({'corr':ind,'comp1':comp1,'comp2':comp2})\n",
    "composante"
   ]
  },
  {
   "cell_type": "code",
   "execution_count": 61,
   "id": "4be08cba",
   "metadata": {},
   "outputs": [
    {
     "data": {
      "text/plain": [
       "Text(0.5, 1.0, 'cercle de correlations')"
      ]
     },
     "execution_count": 61,
     "metadata": {},
     "output_type": "execute_result"
    },
    {
     "data": {
      "image/png": "[encoded data removed]",
      "text/plain": [
       "<Figure size 576x576 with 1 Axes>"
      ]
     },
     "metadata": {
      "needs_background": "light"
     },
     "output_type": "display_data"
    }
   ],
   "source": [
    "fig, axes = plt.subplots(figsize=(8 ,8 ))\n",
    "axes.set_xlim(-1 ,1 )\n",
    "axes.set_ylim(-1 ,1 )\n",
    "\n",
    "for j in range(p):\n",
    "    plt.annotate(auto.columns[j],(corvar[j,0],corvar[j,1]),color='r')\n",
    "\n",
    "plt.annotate(auto_var.columns[1],(comp1[0],comp2[0]),color='green')\n",
    "plt.annotate(auto_var.columns[2],(comp1[1],comp2[1]),color='green')\n",
    "plt.plot([-1,1],[0,0],color='black',linewidth=1)\n",
    "plt.plot([0,0],[-1,1],color='black',linewidth=1)\n",
    "circle = plt.Circle((0,0),1,color='blue' ,fill=False)\n",
    "axes.add_artist(circle)\n",
    "plt.title(\"cercle de correlations\" )"
   ]
  },
  {
   "cell_type": "code",
   "execution_count": 119,
   "id": "216cc2e3",
   "metadata": {},
   "outputs": [
    {
     "data": {
      "text/html": [
       "<div>\n",
       "<style scoped>\n",
       "    .dataframe tbody tr th:only-of-type {\n",
       "        vertical-align: middle;\n",
       "    }\n",
       "\n",
       "    .dataframe tbody tr th {\n",
       "        vertical-align: top;\n",
       "    }\n",
       "\n",
       "    .dataframe thead th {\n",
       "        text-align: right;\n",
       "    }\n",
       "</style>\n",
       "<table border=\"1\" class=\"dataframe\">\n",
       "  <thead>\n",
       "    <tr style=\"text-align: right;\">\n",
       "      <th></th>\n",
       "      <th>sig</th>\n",
       "      <th>comp1</th>\n",
       "      <th>comp2</th>\n",
       "    </tr>\n",
       "  </thead>\n",
       "  <tbody>\n",
       "    <tr>\n",
       "      <th>0</th>\n",
       "      <td>PRIX</td>\n",
       "      <td>3.975</td>\n",
       "      <td>0.337</td>\n",
       "    </tr>\n",
       "    <tr>\n",
       "      <th>1</th>\n",
       "      <td>R.POID.PUIS</td>\n",
       "      <td>-2.619</td>\n",
       "      <td>-3.158</td>\n",
       "    </tr>\n",
       "  </tbody>\n",
       "</table>\n",
       "</div>"
      ],
      "text/plain": [
       "           sig  comp1  comp2\n",
       "0         PRIX  3.975  0.337\n",
       "1  R.POID.PUIS -2.619 -3.158"
      ]
     },
     "execution_count": 119,
     "metadata": {},
     "output_type": "execute_result"
    }
   ],
   "source": [
    "# significativiéte\n",
    "sig1=[]\n",
    "sig1.append(round((n-3)**(1/2)*np.log((1+comp1[0])/(1-comp1[0]))/2,3))\n",
    "sig1.append(round((n-3)**(1/2)*np.log((1+comp1[1])/(1-comp1[1]))/2,3))\n",
    "sig2=[]\n",
    "sig2.append(round((n-3)**(1/2)*np.log((1+comp2[0])/(1-comp2[0]))/2,3))\n",
    "sig2.append(round((n-3)**(1/2)*np.log((1+comp2[1])/(1-comp2[1]))/2,3))\n",
    "signif=pd.DataFrame({'sig':ind,'comp1':sig1,'comp2':sig2})\n",
    "signif"
   ]
  },
  {
   "cell_type": "code",
   "execution_count": 69,
   "id": "7fd7413b",
   "metadata": {},
   "outputs": [
    {
     "data": {
      "text/html": [
       "<div>\n",
       "<style scoped>\n",
       "    .dataframe tbody tr th:only-of-type {\n",
       "        vertical-align: middle;\n",
       "    }\n",
       "\n",
       "    .dataframe tbody tr th {\n",
       "        vertical-align: top;\n",
       "    }\n",
       "\n",
       "    .dataframe thead th {\n",
       "        text-align: right;\n",
       "    }\n",
       "</style>\n",
       "<table border=\"1\" class=\"dataframe\">\n",
       "  <thead>\n",
       "    <tr style=\"text-align: right;\">\n",
       "      <th></th>\n",
       "      <th>0</th>\n",
       "    </tr>\n",
       "    <tr>\n",
       "      <th>FINITION</th>\n",
       "      <th></th>\n",
       "    </tr>\n",
       "  </thead>\n",
       "  <tbody>\n",
       "    <tr>\n",
       "      <th>2_B</th>\n",
       "      <td>7</td>\n",
       "    </tr>\n",
       "    <tr>\n",
       "      <th>3_TB</th>\n",
       "      <td>6</td>\n",
       "    </tr>\n",
       "    <tr>\n",
       "      <th>1_M</th>\n",
       "      <td>5</td>\n",
       "    </tr>\n",
       "  </tbody>\n",
       "</table>\n",
       "</div>"
      ],
      "text/plain": [
       "          0\n",
       "FINITION   \n",
       "2_B       7\n",
       "3_TB      6\n",
       "1_M       5"
      ]
     },
     "execution_count": 69,
     "metadata": {},
     "output_type": "execute_result"
    }
   ],
   "source": [
    "# variable qualitative\n",
    "pd.DataFrame(auto_var[['FINITION']].value_counts())"
   ]
  },
  {
   "cell_type": "code",
   "execution_count": 85,
   "id": "7655eb46",
   "metadata": {
    "scrolled": false
   },
   "outputs": [],
   "source": [
    "Fini=auto_var['FINITION'].to_list()\n",
    "M1=[F1[x] for x in range(len(Fini)) if Fini[x]==\"1_M\"]\n",
    "M2=[F2[x] for x in range(len(Fini)) if Fini[x]==\"1_M\"]\n",
    "TB1=[F1[x] for x in range(len(Fini)) if Fini[x]==\"3_TB\"]\n",
    "TB2=[F2[x] for x in range(len(Fini)) if Fini[x]==\"3_TB\"]\n",
    "B1=[F1[x] for x in range(len(Fini)) if Fini[x]==\"2_B\"]\n",
    "B2=[F2[x] for x in range(len(Fini)) if Fini[x]==\"2_B\"]\n",
    "    "
   ]
  },
  {
   "cell_type": "code",
   "execution_count": 123,
   "id": "e18a9878",
   "metadata": {},
   "outputs": [
    {
     "name": "stdout",
     "output_type": "stream",
     "text": [
      "[-2.0004, 0.2353, 1.3924]\n",
      "[-0.0226, 0.0453, -0.034]\n"
     ]
    }
   ],
   "source": [
    "MOY1=[round(np.sum(M1)/len(M1),4),round(np.sum(B1)/len(B1),4),round(np.sum(TB1)/len(TB1),4)]\n",
    "MOY2=[round(np.sum(M2)/len(M2),4),round(np.sum(B2)/len(B2),4),round(np.sum(TB2)/len(TB2),4)]\n",
    "print(MOY1)\n",
    "print(MOY2)"
   ]
  },
  {
   "cell_type": "code",
   "execution_count": 124,
   "id": "cc1ed38e",
   "metadata": {},
   "outputs": [
    {
     "data": {
      "text/plain": [
       "[5, 7, 6]"
      ]
     },
     "execution_count": 124,
     "metadata": {},
     "output_type": "execute_result"
    }
   ],
   "source": [
    "ng=[len(M1),len(B1),len(TB1)]\n",
    "ng"
   ]
  },
  {
   "cell_type": "code",
   "execution_count": 125,
   "id": "034d7da9",
   "metadata": {},
   "outputs": [
    {
     "data": {
      "text/plain": [
       "['1_M', '2_B', '3_TB']"
      ]
     },
     "execution_count": 125,
     "metadata": {},
     "output_type": "execute_result"
    }
   ],
   "source": [
    "Finition=[\"1_M\",\"2_B\",\"3_TB\"]\n",
    "Finition\n"
   ]
  },
  {
   "cell_type": "code",
   "execution_count": 126,
   "id": "37118624",
   "metadata": {},
   "outputs": [
    {
     "data": {
      "text/plain": [
       "[-2.43, 0.37, 1.93]"
      ]
     },
     "execution_count": 126,
     "metadata": {},
     "output_type": "execute_result"
    }
   ],
   "source": [
    "stat1=[]\n",
    "stat2=[]\n",
    "\n",
    "stat1.append(round(MOY1[0]/(((n-len(M1))*eigenvalues[0]/((n-1)*len(M1)))**(1/2)),2))\n",
    "stat2.append(round(MOY2[0]/(((n-len(M1))*eigenvalues[0]/((n-1)*len(M1)))**(1/2)),2))\n",
    "stat1.append(round(MOY1[1]/(((n-len(B1))*eigenvalues[0]/((n-1)*len(B1)))**(1/2)),2))\n",
    "stat2.append(round(MOY2[1]/(((n-len(B1))*eigenvalues[0]/((n-1)*len(B1)))**(1/2)),2))\n",
    "stat1.append(round(MOY1[2]/(((n-len(TB1))*eigenvalues[0]/((n-1)*len(TB1)))**(1/2)),2))\n",
    "stat2.append(round(MOY2[2]/(((n-len(TB1))*eigenvalues[0]/((n-1)*len(TB1)))**(1/2)),2))\n",
    "\n",
    "stat1\n",
    "#stat2"
   ]
  },
  {
   "cell_type": "code",
   "execution_count": 129,
   "id": "99bb4124",
   "metadata": {},
   "outputs": [
    {
     "data": {
      "text/html": [
       "<div>\n",
       "<style scoped>\n",
       "    .dataframe tbody tr th:only-of-type {\n",
       "        vertical-align: middle;\n",
       "    }\n",
       "\n",
       "    .dataframe tbody tr th {\n",
       "        vertical-align: top;\n",
       "    }\n",
       "\n",
       "    .dataframe thead th {\n",
       "        text-align: right;\n",
       "    }\n",
       "</style>\n",
       "<table border=\"1\" class=\"dataframe\">\n",
       "  <thead>\n",
       "    <tr style=\"text-align: right;\">\n",
       "      <th></th>\n",
       "      <th>Finition</th>\n",
       "      <th>ng</th>\n",
       "      <th>moyenne1</th>\n",
       "      <th>v_test1</th>\n",
       "      <th>moyenne2</th>\n",
       "      <th>v_test2</th>\n",
       "    </tr>\n",
       "  </thead>\n",
       "  <tbody>\n",
       "    <tr>\n",
       "      <th>0</th>\n",
       "      <td>1_M</td>\n",
       "      <td>5</td>\n",
       "      <td>-2.0004</td>\n",
       "      <td>-2.43</td>\n",
       "      <td>-0.0226</td>\n",
       "      <td>-0.03</td>\n",
       "    </tr>\n",
       "    <tr>\n",
       "      <th>1</th>\n",
       "      <td>2_B</td>\n",
       "      <td>7</td>\n",
       "      <td>0.2353</td>\n",
       "      <td>0.37</td>\n",
       "      <td>0.0453</td>\n",
       "      <td>0.07</td>\n",
       "    </tr>\n",
       "    <tr>\n",
       "      <th>2</th>\n",
       "      <td>3_TB</td>\n",
       "      <td>6</td>\n",
       "      <td>1.3924</td>\n",
       "      <td>1.93</td>\n",
       "      <td>-0.0340</td>\n",
       "      <td>-0.05</td>\n",
       "    </tr>\n",
       "  </tbody>\n",
       "</table>\n",
       "</div>"
      ],
      "text/plain": [
       "  Finition  ng  moyenne1  v_test1  moyenne2  v_test2\n",
       "0      1_M   5   -2.0004    -2.43   -0.0226    -0.03\n",
       "1      2_B   7    0.2353     0.37    0.0453     0.07\n",
       "2     3_TB   6    1.3924     1.93   -0.0340    -0.05"
      ]
     },
     "execution_count": 129,
     "metadata": {},
     "output_type": "execute_result"
    }
   ],
   "source": [
    "var_finition=pd.DataFrame({'Finition':Finition,'ng':ng,'moyenne1':MOY1,'v_test1':stat1,'moyenne2':MOY2,'v_test2':stat2})\n",
    "var_finition"
   ]
  },
  {
   "cell_type": "code",
   "execution_count": 111,
   "id": "751a8390",
   "metadata": {},
   "outputs": [],
   "source": [
    "indi=['M','B','TB']"
   ]
  },
  {
   "cell_type": "code",
   "execution_count": 130,
   "id": "f1728ead",
   "metadata": {},
   "outputs": [
    {
     "data": {
      "text/plain": [
       "[<matplotlib.lines.Line2D at 0x17ff506f160>]"
      ]
     },
     "execution_count": 130,
     "metadata": {},
     "output_type": "execute_result"
    },
    {
     "data": {
      "image/png": "[encoded data removed]",
      "text/plain": [
       "<Figure size 576x576 with 1 Axes>"
      ]
     },
     "metadata": {
      "needs_background": "light"
     },
     "output_type": "display_data"
    }
   ],
   "source": [
    "fig, axes = plt.subplots(figsize=(8 , 8))\n",
    "axes.set_xlim(-6,6)\n",
    "axes.set_ylim(- 6,6)\n",
    "for i in range(n):\n",
    "    plt.annotate(auto.index[i],(coords[i,0 ],coords[i,1 ]),color='b')\n",
    "    \n",
    "plt.annotate(indi[0],(MOY1[0],MOY2[0]),color='r' )\n",
    "plt.annotate(indi[1],(MOY1[1],MOY2[1]),color='r' )\n",
    "plt.annotate(indi[2],(MOY1[2],MOY2[2]),color='r' )\n",
    "plt.plot([-6,6],[0 ,0 ],color='black' ,linewidth= 1)\n",
    "plt.plot([0 ,0 ],[ -6, 6],color='black' ,linewidth= 1 )"
   ]
  },
  {
   "cell_type": "code",
   "execution_count": null,
   "id": "ce97716d",
   "metadata": {},
   "outputs": [],
   "source": []
  }
 ],
 "metadata": {
  "kernelspec": {
   "display_name": "Python 3 (ipykernel)",
   "language": "python",
   "name": "python3"
  },
  "language_info": {
   "codemirror_mode": {
    "name": "ipython",
    "version": 3
   },
   "file_extension": ".py",
   "mimetype": "text/x-python",
   "name": "python",
   "nbconvert_exporter": "python",
   "pygments_lexer": "ipython3",
   "version": "3.9.12"
  }
 },
 "nbformat": 4,
 "nbformat_minor": 5
}
